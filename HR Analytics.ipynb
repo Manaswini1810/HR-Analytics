{
 "cells": [
  {
   "cell_type": "code",
   "execution_count": 1,
   "id": "725e53e9-6633-42fa-bb35-c41d07e4a5aa",
   "metadata": {},
   "outputs": [],
   "source": [
    "import pandas as pd\n",
    "import numpy as np\n",
    "import matplotlib.pyplot as plt\n",
    "%matplotlib inline"
   ]
  },
  {
   "cell_type": "code",
   "execution_count": 2,
   "id": "7d7e362c-7a33-4a7e-b987-aeb5b9a8a5e3",
   "metadata": {},
   "outputs": [],
   "source": [
    "hrtrain=pd.read_csv(r\"C:\\Users\\Dell\\Downloads\\train_LZdllcl.csv\")"
   ]
  },
  {
   "cell_type": "code",
   "execution_count": 3,
   "id": "1e82b6f1-d38e-4873-8042-c93cf4c7fb9f",
   "metadata": {},
   "outputs": [],
   "source": [
    "hrtest=pd.read_csv(r\"C:\\Users\\Dell\\Downloads\\test_2umaH9m (1).csv\")"
   ]
  },
  {
   "cell_type": "code",
   "execution_count": 4,
   "id": "de166ec9-1a8d-44dd-8861-ecb5bcd7de0a",
   "metadata": {},
   "outputs": [
    {
     "name": "stdout",
     "output_type": "stream",
     "text": [
      "<class 'pandas.core.frame.DataFrame'>\n",
      "RangeIndex: 54808 entries, 0 to 54807\n",
      "Data columns (total 14 columns):\n",
      " #   Column                Non-Null Count  Dtype  \n",
      "---  ------                --------------  -----  \n",
      " 0   employee_id           54808 non-null  int64  \n",
      " 1   department            54808 non-null  object \n",
      " 2   region                54808 non-null  object \n",
      " 3   education             52399 non-null  object \n",
      " 4   gender                54808 non-null  object \n",
      " 5   recruitment_channel   54808 non-null  object \n",
      " 6   no_of_trainings       54808 non-null  int64  \n",
      " 7   age                   54808 non-null  int64  \n",
      " 8   previous_year_rating  50684 non-null  float64\n",
      " 9   length_of_service     54808 non-null  int64  \n",
      " 10  KPIs_met >80%         54808 non-null  int64  \n",
      " 11  awards_won?           54808 non-null  int64  \n",
      " 12  avg_training_score    54808 non-null  int64  \n",
      " 13  is_promoted           54808 non-null  int64  \n",
      "dtypes: float64(1), int64(8), object(5)\n",
      "memory usage: 5.9+ MB\n"
     ]
    }
   ],
   "source": [
    "hrtrain.info()"
   ]
  },
  {
   "cell_type": "code",
   "execution_count": 5,
   "id": "ed0f03c5-f0c4-41d4-ade3-1ec3f5dbd109",
   "metadata": {},
   "outputs": [
    {
     "name": "stdout",
     "output_type": "stream",
     "text": [
      "<class 'pandas.core.frame.DataFrame'>\n",
      "RangeIndex: 23490 entries, 0 to 23489\n",
      "Data columns (total 13 columns):\n",
      " #   Column                Non-Null Count  Dtype  \n",
      "---  ------                --------------  -----  \n",
      " 0   employee_id           23490 non-null  int64  \n",
      " 1   department            23490 non-null  object \n",
      " 2   region                23490 non-null  object \n",
      " 3   education             22456 non-null  object \n",
      " 4   gender                23490 non-null  object \n",
      " 5   recruitment_channel   23490 non-null  object \n",
      " 6   no_of_trainings       23490 non-null  int64  \n",
      " 7   age                   23490 non-null  int64  \n",
      " 8   previous_year_rating  21678 non-null  float64\n",
      " 9   length_of_service     23490 non-null  int64  \n",
      " 10  KPIs_met >80%         23490 non-null  int64  \n",
      " 11  awards_won?           23490 non-null  int64  \n",
      " 12  avg_training_score    23490 non-null  int64  \n",
      "dtypes: float64(1), int64(7), object(5)\n",
      "memory usage: 2.3+ MB\n"
     ]
    }
   ],
   "source": [
    "hrtest.info()"
   ]
  },
  {
   "cell_type": "code",
   "execution_count": 6,
   "id": "497c8753-922e-4297-b3b3-c516b7637f2b",
   "metadata": {},
   "outputs": [
    {
     "data": {
      "text/plain": [
       "education\n",
       "Bachelor's          36669\n",
       "Master's & above    14925\n",
       "NaN                  2409\n",
       "Below Secondary       805\n",
       "Name: count, dtype: int64"
      ]
     },
     "execution_count": 6,
     "metadata": {},
     "output_type": "execute_result"
    }
   ],
   "source": [
    "hrtrain.education.value_counts(dropna=False) # Impute NA's with \"Bachelor's\""
   ]
  },
  {
   "cell_type": "code",
   "execution_count": 7,
   "id": "b2f83d61-12fa-4004-b633-95d51c14ef71",
   "metadata": {},
   "outputs": [],
   "source": [
    "hrtrain.education=hrtrain.education.fillna(hrtrain.education.value_counts().idxmax())\n",
    "# idxmax() will index of maximum frequency in value_counts() table"
   ]
  },
  {
   "cell_type": "code",
   "execution_count": 8,
   "id": "661a24e3-678a-416a-8eaa-b4ab467bf5f3",
   "metadata": {},
   "outputs": [],
   "source": [
    "hrtest.education=hrtest.education.fillna(hrtest.education.value_counts().idxmax())"
   ]
  },
  {
   "cell_type": "code",
   "execution_count": 9,
   "id": "596c7a01-0806-4171-9c78-093263b844f6",
   "metadata": {},
   "outputs": [
    {
     "data": {
      "text/plain": [
       "previous_year_rating\n",
       "3.0    18618\n",
       "5.0    11741\n",
       "4.0     9877\n",
       "1.0     6223\n",
       "2.0     4225\n",
       "NaN     4124\n",
       "Name: count, dtype: int64"
      ]
     },
     "execution_count": 9,
     "metadata": {},
     "output_type": "execute_result"
    }
   ],
   "source": [
    "hrtrain.previous_year_rating.value_counts(dropna=False)"
   ]
  },
  {
   "cell_type": "code",
   "execution_count": 10,
   "id": "fbdbca4a-9dba-4dd9-a68d-7f7ae907da51",
   "metadata": {},
   "outputs": [],
   "source": [
    "hrtrain.previous_year_rating=hrtrain.previous_year_rating.fillna(3.0)"
   ]
  },
  {
   "cell_type": "code",
   "execution_count": 11,
   "id": "30e0eb0c-bf00-4462-bec8-1117b0ffca6d",
   "metadata": {},
   "outputs": [],
   "source": [
    "hrtest.previous_year_rating=hrtest.previous_year_rating.fillna(3.0)"
   ]
  },
  {
   "cell_type": "code",
   "execution_count": 12,
   "id": "6934d587-6309-4ef6-824b-36d0571a117c",
   "metadata": {},
   "outputs": [],
   "source": [
    "# Split Data into numcols & objectcols\n",
    "numcols=hrtrain[['no_of_trainings', 'age','length_of_service','avg_training_score']]\n",
    "\n",
    "objectcols=hrtrain[['department', 'region', 'education', 'gender','recruitment_channel',\n",
    "                    'KPIs_met >80%', 'awards_won?','is_promoted']]"
   ]
  },
  {
   "cell_type": "code",
   "execution_count": 13,
   "id": "4faaceed-fc6e-405b-a623-efed5d0fc723",
   "metadata": {},
   "outputs": [],
   "source": [
    "# EDA on Numeric Data  - describe() , skew() & kurt() - Univariate Statistics\n",
    "# Histogram, Boxplot and Density Curve - avg_training_score - Univariate Plots\n",
    "# Correlation and Heatmap - numcols - Bivariate Statistics & Plots"
   ]
  },
  {
   "cell_type": "code",
   "execution_count": 14,
   "id": "e1db595c-edbc-416a-a68e-5edc2fce8e61",
   "metadata": {},
   "outputs": [
    {
     "name": "stdout",
     "output_type": "stream",
     "text": [
      "       no_of_trainings           age  length_of_service  avg_training_score\n",
      "count     54808.000000  54808.000000       54808.000000        54808.000000\n",
      "mean          1.253011     34.803915           5.865512           63.386750\n",
      "std           0.609264      7.660169           4.265094           13.371559\n",
      "min           1.000000     20.000000           1.000000           39.000000\n",
      "25%           1.000000     29.000000           3.000000           51.000000\n",
      "50%           1.000000     33.000000           5.000000           60.000000\n",
      "75%           1.000000     39.000000           7.000000           76.000000\n",
      "max          10.000000     60.000000          37.000000           99.000000\n",
      "Skewness: no_of_trainings       3.445434\n",
      "age                   1.007432\n",
      "length_of_service     1.738061\n",
      "avg_training_score    0.451908\n",
      "dtype: float64\n",
      "Kurtosis: no_of_trainings       18.740082\n",
      "age                    0.792353\n",
      "length_of_service      4.414031\n",
      "avg_training_score    -1.049649\n",
      "dtype: float64\n"
     ]
    }
   ],
   "source": [
    "# EDA on Numeric Data  - describe() , skew() & kurt() - Univariate Statistics\n",
    "print(numcols.describe())\n",
    "print(\"Skewness:\",numcols.skew())\n",
    "print(\"Kurtosis:\",numcols.kurt())"
   ]
  },
  {
   "cell_type": "code",
   "execution_count": 15,
   "id": "aaefcc3a-666a-42d0-81d1-96b76f06085a",
   "metadata": {},
   "outputs": [
    {
     "data": {
      "image/png": "[encoded data removed]",
      "text/plain": [
       "<Figure size 640x480 with 3 Axes>"
      ]
     },
     "metadata": {},
     "output_type": "display_data"
    }
   ],
   "source": [
    "import seaborn as sns\n",
    "fig,ax=plt.subplots(3,1)\n",
    "sns.histplot(hrtrain.avg_training_score,ax=ax[0])\n",
    "sns.boxplot(hrtrain.avg_training_score,ax=ax[1],orient=\"h\")\n",
    "sns.kdeplot(hrtrain.avg_training_score,ax=ax[2])\n",
    "plt.show()"
   ]
  },
  {
   "cell_type": "code",
   "execution_count": 16,
   "id": "684ce290-5fa1-46f4-a2cf-8466f64e945d",
   "metadata": {},
   "outputs": [
    {
     "data": {
      "text/plain": [
       "<Axes: >"
      ]
     },
     "execution_count": 16,
     "metadata": {},
     "output_type": "execute_result"
    }
   ],
   "source": [
    "sns.heatmap(numcols.corr(),annot=True)"
   ]
  },
  {
   "cell_type": "code",
   "execution_count": 17,
   "id": "72b8cd77-a6b2-48d2-b3e8-f40fb4530e53",
   "metadata": {},
   "outputs": [
    {
     "data": {
      "text/plain": [
       "<seaborn.axisgrid.PairGrid at 0x17fc18baba0>"
      ]
     },
     "execution_count": 17,
     "metadata": {},
     "output_type": "execute_result"
    }
   ],
   "source": [
    "sns.pairplot(numcols) # Bivariate Plot - Scatter Plot"
   ]
  },
  {
   "cell_type": "code",
   "execution_count": 18,
   "id": "b18203b9-eb81-4eb8-9858-19fecd7f5732",
   "metadata": {},
   "outputs": [
    {
     "name": "stdout",
     "output_type": "stream",
     "text": [
      "department\n",
      "Sales & Marketing    16840\n",
      "Operations           11348\n",
      "Technology            7138\n",
      "Procurement           7138\n",
      "Analytics             5352\n",
      "Finance               2536\n",
      "HR                    2418\n",
      "Legal                 1039\n",
      "R&D                    999\n",
      "Name: count, dtype: int64\n",
      "region\n",
      "region_2     12343\n",
      "region_22     6428\n",
      "region_7      4843\n",
      "region_15     2808\n",
      "region_13     2648\n",
      "region_26     2260\n",
      "region_31     1935\n",
      "region_4      1703\n",
      "region_27     1659\n",
      "region_16     1465\n",
      "region_28     1318\n",
      "region_11     1315\n",
      "region_23     1175\n",
      "region_29      994\n",
      "region_32      945\n",
      "region_19      874\n",
      "region_20      850\n",
      "region_14      827\n",
      "region_25      819\n",
      "region_17      796\n",
      "region_5       766\n",
      "region_6       690\n",
      "region_30      657\n",
      "region_8       655\n",
      "region_10      648\n",
      "region_1       610\n",
      "region_24      508\n",
      "region_12      500\n",
      "region_9       420\n",
      "region_21      411\n",
      "region_3       346\n",
      "region_34      292\n",
      "region_33      269\n",
      "region_18       31\n",
      "Name: count, dtype: int64\n",
      "education\n",
      "Bachelor's          39078\n",
      "Master's & above    14925\n",
      "Below Secondary       805\n",
      "Name: count, dtype: int64\n",
      "gender\n",
      "m    38496\n",
      "f    16312\n",
      "Name: count, dtype: int64\n",
      "recruitment_channel\n",
      "other       30446\n",
      "sourcing    23220\n",
      "referred     1142\n",
      "Name: count, dtype: int64\n",
      "KPIs_met >80%\n",
      "0    35517\n",
      "1    19291\n",
      "Name: count, dtype: int64\n",
      "awards_won?\n",
      "0    53538\n",
      "1     1270\n",
      "Name: count, dtype: int64\n",
      "is_promoted\n",
      "0    50140\n",
      "1     4668\n",
      "Name: count, dtype: int64\n"
     ]
    }
   ],
   "source": [
    "# Frequency Counts of all object cols\n",
    "for col in objectcols.columns:\n",
    "    freq=objectcols[col].value_counts()\n",
    "    print(freq)"
   ]
  },
  {
   "cell_type": "code",
   "execution_count": 19,
   "id": "33eccb1b-a3f4-437b-bc10-119fcc76dea0",
   "metadata": {},
   "outputs": [
    {
     "data": {
      "text/plain": [
       "gender\n",
       "f    63.889897\n",
       "m    63.173550\n",
       "Name: avg_training_score, dtype: float64"
      ]
     },
     "execution_count": 19,
     "metadata": {},
     "output_type": "execute_result"
    }
   ],
   "source": [
    "# What is Average avg_training_score for different gender?\n",
    "hrtrain.avg_training_score.groupby(hrtrain.gender).mean()"
   ]
  },
  {
   "cell_type": "code",
   "execution_count": 20,
   "id": "1289db0e-8aff-421f-b2cb-009f8d7bd497",
   "metadata": {},
   "outputs": [
    {
     "data": {
      "text/plain": [
       "KPIs_met >80%\n",
       "0    62.614241\n",
       "1    64.809030\n",
       "Name: avg_training_score, dtype: float64"
      ]
     },
     "execution_count": 20,
     "metadata": {},
     "output_type": "execute_result"
    }
   ],
   "source": [
    "# What is Average avg_training_score for different kpismet?\n",
    "hrtrain.avg_training_score.groupby(hrtrain['KPIs_met >80%']).mean()"
   ]
  },
  {
   "cell_type": "code",
   "execution_count": 21,
   "id": "2fc44946-8eae-4117-b168-8f104b6b623b",
   "metadata": {},
   "outputs": [
    {
     "data": {
      "text/plain": [
       "recruitment_channel\n",
       "other       63.362839\n",
       "referred    66.182137\n",
       "sourcing    63.280620\n",
       "Name: avg_training_score, dtype: float64"
      ]
     },
     "execution_count": 21,
     "metadata": {},
     "output_type": "execute_result"
    }
   ],
   "source": [
    "# What is Average avg_training_score for different recruitment channel?\n",
    "hrtrain.avg_training_score.groupby(hrtrain.recruitment_channel).mean()"
   ]
  },
  {
   "cell_type": "code",
   "execution_count": 22,
   "id": "72a159d2-e0b0-4678-9b74-c8b9f85f2238",
   "metadata": {},
   "outputs": [
    {
     "data": {
      "text/plain": [
       "education\n",
       "Bachelor's          5.286760\n",
       "Below Secondary     1.704348\n",
       "Master's & above    7.605293\n",
       "Name: length_of_service, dtype: float64"
      ]
     },
     "execution_count": 22,
     "metadata": {},
     "output_type": "execute_result"
    }
   ],
   "source": [
    "# What is Average length_of_service for different education?\n",
    "hrtrain.length_of_service.groupby(hrtrain.education).mean()"
   ]
  },
  {
   "cell_type": "code",
   "execution_count": 23,
   "id": "1847e408-0e27-4369-bbcb-1ce764f4828e",
   "metadata": {},
   "outputs": [
    {
     "data": {
      "text/plain": [
       "department\n",
       "Analytics            4.932735\n",
       "Finance              4.819401\n",
       "HR                   5.683623\n",
       "Legal                4.599615\n",
       "Operations           6.416020\n",
       "Procurement          6.331045\n",
       "R&D                  4.554555\n",
       "Sales & Marketing    5.912292\n",
       "Technology           5.914822\n",
       "Name: length_of_service, dtype: float64"
      ]
     },
     "execution_count": 23,
     "metadata": {},
     "output_type": "execute_result"
    }
   ],
   "source": [
    "# What is Average lenght_of_service for different department?\n",
    "hrtrain.length_of_service.groupby(hrtrain.department).mean()"
   ]
  },
  {
   "cell_type": "code",
   "execution_count": 24,
   "id": "4b61ab63-cda4-4c72-8b5f-b3388c360a24",
   "metadata": {},
   "outputs": [
    {
     "data": {
      "text/plain": [
       "department\n",
       "Analytics            84.602952\n",
       "Finance              60.222003\n",
       "HR                   50.018197\n",
       "Legal                59.868142\n",
       "Operations           60.226648\n",
       "Procurement          70.122443\n",
       "R&D                  84.596597\n",
       "Sales & Marketing    50.261698\n",
       "Technology           79.928692\n",
       "Name: avg_training_score, dtype: float64"
      ]
     },
     "execution_count": 24,
     "metadata": {},
     "output_type": "execute_result"
    }
   ],
   "source": [
    "# What is Average avg_trainig_score for different department?\n",
    "hrtrain.avg_training_score.groupby(hrtrain.department).mean()"
   ]
  },
  {
   "cell_type": "code",
   "execution_count": 25,
   "id": "83176c74-36de-49fa-a5d7-5aff38f53ab8",
   "metadata": {},
   "outputs": [],
   "source": [
    "# Test Null Average avg_training_score for different gender equal.\n",
    "# split data, Frame Null & Alt, Conduct test & Interpret \n",
    "# Exactly 2 levels/classes - 2 Sample Independent T test\n",
    "\n",
    "male=hrtrain[hrtrain.gender==\"m\"]\n",
    "female=hrtrain[hrtrain.gender==\"f\"]\n",
    "\n",
    "# Null - There is no significant difference in Average avg_training_score of male&female\n",
    "# Alt - There is significant difference in Average avg_training_score of male&female"
   ]
  },
  {
   "cell_type": "code",
   "execution_count": 26,
   "id": "0ad8d08d-b80c-4cd1-85fd-007d4df13b80",
   "metadata": {},
   "outputs": [],
   "source": [
    "from scipy.stats import ttest_ind"
   ]
  },
  {
   "cell_type": "code",
   "execution_count": 27,
   "id": "649f5ede-7d3a-44ec-82bc-4522c7d9afe6",
   "metadata": {},
   "outputs": [
    {
     "data": {
      "text/plain": [
       "TtestResult(statistic=-6.122262326710494, pvalue=9.321257169457854e-10, df=35820.249659813104)"
      ]
     },
     "execution_count": 27,
     "metadata": {},
     "output_type": "execute_result"
    }
   ],
   "source": [
    "ttest_ind(male.avg_training_score,female.avg_training_score,equal_var=False)\n",
    "# Since pvalue=9.321257169457854e-10 is less than 0.05, Reject Null"
   ]
  },
  {
   "cell_type": "code",
   "execution_count": 28,
   "id": "9753aa18-fdea-4da9-b19e-519a606326c5",
   "metadata": {},
   "outputs": [],
   "source": [
    "# Test Null Average avg_training_score for different recruitment_channel equal.\n",
    "# split data, Frame Null & Alt, Conduct test & Interpret \n",
    "# more than 2 levels/classes -Anova Single Factor\n",
    "\n",
    "referal=hrtrain[hrtrain.recruitment_channel==\"referred\"]\n",
    "source=hrtrain[hrtrain.recruitment_channel==\"sourcing\"]\n",
    "other=hrtrain[hrtrain.recruitment_channel==\"other\"]\n",
    "\n",
    "# Null - There is no significant difference in Average avg_training_score of different\n",
    "# recruitment channl\n",
    "# Alt - There is significant difference in Average avg_training_score of different\n",
    "# recruitment channel"
   ]
  },
  {
   "cell_type": "code",
   "execution_count": 29,
   "id": "d517c57e-b74d-49f4-8056-01f05f744f31",
   "metadata": {},
   "outputs": [],
   "source": [
    "from scipy.stats import f_oneway"
   ]
  },
  {
   "cell_type": "code",
   "execution_count": 30,
   "id": "f88a1349-30ef-4ae3-8d70-fb8eda4a6b46",
   "metadata": {},
   "outputs": [
    {
     "data": {
      "text/plain": [
       "F_onewayResult(statistic=25.758203095600138, pvalue=6.585805990029605e-12)"
      ]
     },
     "execution_count": 30,
     "metadata": {},
     "output_type": "execute_result"
    }
   ],
   "source": [
    "f_oneway(referal.avg_training_score,source.avg_training_score,other.avg_training_score)\n",
    "# Since pvalue=6.585805990029605e-12 is less than 0.05, Reject Null"
   ]
  },
  {
   "cell_type": "code",
   "execution_count": 31,
   "id": "3ace88db-80fe-42f7-96e8-414fec1dd0b7",
   "metadata": {},
   "outputs": [
    {
     "data": {
      "text/plain": [
       "Chi2ContingencyResult(statistic=6.677254566546107, pvalue=0.009765091521176657, dof=1, expected_freq=array([[14922.70617428, 35217.29382572],\n",
       "       [ 1389.29382572,  3278.70617428]]))"
      ]
     },
     "execution_count": 31,
     "metadata": {},
     "output_type": "execute_result"
    }
   ],
   "source": [
    "# Test Null No Association between gender and is_promoted\n",
    "# Both variables non numeric categorical - Chi Square test of independence\n",
    "\n",
    "# Null - There is no association between both variables\n",
    "# Alt - There is association between both variables\n",
    "\n",
    "from scipy.stats import chi2_contingency\n",
    "chi2_contingency(pd.crosstab(hrtrain.is_promoted,hrtrain.gender))\n",
    "# Since pvalue=0.009765091521176657 is less thn 0.05, Reject null"
   ]
  },
  {
   "cell_type": "code",
   "execution_count": 32,
   "id": "79219315-ecd7-49e8-8b97-565b4a453f62",
   "metadata": {},
   "outputs": [],
   "source": [
    "# Dummy Variable encoding\n",
    "objectcols_dummy=pd.get_dummies(objectcols,columns=['department', 'region', 'education', \n",
    "                                                    'gender', 'recruitment_channel',\n",
    "                                                    'KPIs_met >80%', 'awards_won?'])"
   ]
  },
  {
   "cell_type": "code",
   "execution_count": 33,
   "id": "ad2f5aa1-1d57-434d-8f40-8242b601952c",
   "metadata": {},
   "outputs": [],
   "source": [
    "# Concatenate numcols & objectcols_dummy - Column Concatenation\n",
    "hrtrain_df=pd.concat([numcols,objectcols_dummy],axis=1)"
   ]
  },
  {
   "cell_type": "code",
   "execution_count": 34,
   "id": "35cc6076-3fdf-4000-bdd1-85b8af908f6b",
   "metadata": {},
   "outputs": [],
   "source": [
    "# Split data into dependent variable(y) & Independent Variables(X)\n",
    "y=hrtrain_df.is_promoted\n",
    "X=hrtrain_df.drop('is_promoted',axis=1)"
   ]
  },
  {
   "cell_type": "code",
   "execution_count": 35,
   "id": "c8cc4366-7cef-4fd8-afb8-5df69db57d5c",
   "metadata": {},
   "outputs": [],
   "source": [
    "# LabelEncode dependent variable (y)\n",
    "from sklearn.preprocessing import LabelEncoder"
   ]
  },
  {
   "cell_type": "code",
   "execution_count": 36,
   "id": "47152326-df02-400f-9e83-c6138c118afa",
   "metadata": {},
   "outputs": [],
   "source": [
    "y=LabelEncoder().fit_transform(y)"
   ]
  },
  {
   "cell_type": "code",
   "execution_count": 37,
   "id": "3ed4de11-42c8-487a-bd9d-b409219d9ff8",
   "metadata": {},
   "outputs": [],
   "source": [
    "from sklearn.linear_model import LogisticRegression"
   ]
  },
  {
   "cell_type": "code",
   "execution_count": 38,
   "id": "7dca4843-c10c-4743-bf0f-fa9d406968a8",
   "metadata": {},
   "outputs": [],
   "source": [
    "logit=LogisticRegression(max_iter=2000)"
   ]
  },
  {
   "cell_type": "code",
   "execution_count": 39,
   "id": "8a426f8c-4976-42f6-b47f-4d790bd51a35",
   "metadata": {},
   "outputs": [],
   "source": [
    "logitmodel=logit.fit(X,y)"
   ]
  },
  {
   "cell_type": "code",
   "execution_count": 40,
   "id": "802e2262-0c3a-4e12-9f71-4a927caa5d08",
   "metadata": {},
   "outputs": [
    {
     "data": {
      "text/plain": [
       "0.9316888045540797"
      ]
     },
     "execution_count": 40,
     "metadata": {},
     "output_type": "execute_result"
    }
   ],
   "source": [
    "logitmodel.score(X,y) # Accuracy from Confusion matrix"
   ]
  },
  {
   "cell_type": "code",
   "execution_count": 43,
   "id": "70ec659f-3176-405a-aef0-00cc9958285d",
   "metadata": {},
   "outputs": [],
   "source": [
    "logitpredict=logitmodel.predict(X)"
   ]
  },
  {
   "cell_type": "code",
   "execution_count": 45,
   "id": "8c0aabc6-7182-4f69-9751-3be1f47249b2",
   "metadata": {},
   "outputs": [],
   "source": [
    "from sklearn.metrics import classification_report"
   ]
  },
  {
   "cell_type": "code",
   "execution_count": 47,
   "id": "134547a0-f26e-42d8-a78c-84910578944e",
   "metadata": {},
   "outputs": [
    {
     "name": "stdout",
     "output_type": "stream",
     "text": [
      "              precision    recall  f1-score   support\n",
      "\n",
      "           0       0.93      0.99      0.96     50140\n",
      "           1       0.81      0.26      0.39      4668\n",
      "\n",
      "    accuracy                           0.93     54808\n",
      "   macro avg       0.87      0.63      0.68     54808\n",
      "weighted avg       0.92      0.93      0.91     54808\n",
      "\n"
     ]
    }
   ],
   "source": [
    "print(classification_report(y,logitpredict))"
   ]
  },
  {
   "cell_type": "code",
   "execution_count": null,
   "id": "3280b176-a635-42d4-af38-3582df86e83c",
   "metadata": {},
   "outputs": [],
   "source": []
  }
 ],
 "metadata": {
  "kernelspec": {
   "display_name": "Python [conda env:base] *",
   "language": "python",
   "name": "conda-base-py"
  },
  "language_info": {
   "codemirror_mode": {
    "name": "ipython",
    "version": 3
   },
   "file_extension": ".py",
   "mimetype": "text/x-python",
   "name": "python",
   "nbconvert_exporter": "python",
   "pygments_lexer": "ipython3",
   "version": "3.12.7"
  }
 },
 "nbformat": 4,
 "nbformat_minor": 5
}
